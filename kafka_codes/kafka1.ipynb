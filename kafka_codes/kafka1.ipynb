{
 "cells": [
  {
   "cell_type": "markdown",
   "metadata": {},
   "source": [
    "## Apache kafka - wprowadzenie\n",
    "\n",
    "Apache kafka to ,,serwer'' oraz ,,baza danych''.\n",
    "\n",
    "Domyślnym adresem naszego serwera jest `broker:9092`\n",
    "\n",
    "Nasza baza danych będzie posługiwała się tabelami, które w Apache Kafka nazywamy `topicami`.\n",
    "\n",
    "Zarządzanie Kafką odbywa się z wykorzystaniem skryptów. W naszym przypadku będą to skrypty  `*.sh`.\n",
    "\n",
    "\n",
    "### Sprawdź listę topiców\n",
    "\n",
    "Pamiętaj aby przejść do katalogu domowego.\n",
    "\n",
    "```bash\n",
    "cd ~ \n",
    "kafka/bin/kafka-topics.sh --list --bootstrap-server broker:9092\n",
    "```\n",
    "\n",
    "### Utwórz nowy topic o nazwie `mytopic`\n",
    "\n",
    "```bash\n",
    "kafka/bin/kafka-topics.sh --create --topic mytopic  --bootstrap-server broker:9092\n",
    "```\n",
    "\n",
    "### Utwórz producenta \n",
    "\n",
    "Ten skrypt pozwoli Ci wprowadzać eventy ręcznie przez terminal.\n",
    "Opcje `--property` są dodatkowe i wprowadzone tylko do analizy przeprowadzanej w tym przykładzie.\n",
    "\n",
    "```bash\n",
    "kafka/bin/kafka-console-producer.sh --bootstrap-server broker:9092 --topic mytopic --property \"parse.key=true\" --property \"key.separator=:\"\n",
    "```\n",
    "\n",
    "### Consument w Sparku\n",
    "\n",
    "Otwórz nowy terminal w miejscu gdzie znajduje się plik test_key_value.py i uruchom program Consumenta na Sparku\n",
    "\n",
    "Pamiętaj, iż Apache Spark nie posiada domyślnego konektora do Kafki dlatego uruchom proces poprzez komendę spark-submit i pobierz odpowiedni pakiet w scali.\n",
    "\n",
    "```bash\n",
    "spark-submit --packages org.apache.spark:spark-sql-kafka-0-10_2.12:3.3.0  test_key_value.py\n",
    "```\n",
    "\n",
    "5. W terminalu z uruchominionym producentem wpisz teskt w postaci: \n",
    "```bash\n",
    "jan:45\n",
    "alicja:20\n",
    "```\n",
    "i sprawdz co pojawia się w oknie aplikacji consumenta.\n",
    "\n",
    "Po zakończeniu pokazu ctrl+c zamyka zarówno okno producenta jak i aplikacje sparkową"
   ]
  },
  {
   "cell_type": "markdown",
   "metadata": {},
   "source": []
  }
 ],
 "metadata": {
  "kernelspec": {
   "display_name": "venv",
   "language": "python",
   "name": "python3"
  },
  "language_info": {
   "codemirror_mode": {
    "name": "ipython",
    "version": 3
   },
   "file_extension": ".py",
   "mimetype": "text/x-python",
   "name": "python",
   "nbconvert_exporter": "python",
   "pygments_lexer": "ipython3",
   "version": "3.11.11"
  }
 },
 "nbformat": 4,
 "nbformat_minor": 2
}
