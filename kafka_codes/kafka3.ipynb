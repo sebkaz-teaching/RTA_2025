{
 "cells": [
  {
   "cell_type": "markdown",
   "id": "84f5ca4f",
   "metadata": {},
   "source": [
    "# Consumer w środowisku Python\n",
    "\n",
    "Przygotuj środowisko i uruchom skrypt producenta. \n",
    "\n",
    "Rozpatrzmy kod konsumenta czytającego z topicu oraz realizującego prostą regułę decyzyjną. "
   ]
  },
  {
   "cell_type": "code",
   "execution_count": null,
   "id": "f011f13a",
   "metadata": {},
   "outputs": [],
   "source": [
    "%%file konsument.py\n",
    "from kafka import KafkaConsumer\n",
    "import json  \n",
    "\n",
    "SERVER = \"broker:9092\"\n",
    "TOPIC  = \"streaming\"\n",
    "\n",
    "# Konsumer do pobierania danych z Kafka\n",
    "consumer = KafkaConsumer(\n",
    "    TOPIC,\n",
    "    bootstrap_servers=SERVER,\n",
    "    auto_offset_reset='earliest',\n",
    "    value_deserializer=lambda x: json.loads(x.decode('utf-8'))\n",
    ")\n",
    "\n",
    "# Pobieranie transakcji w niemal real-time i analiza\n",
    "for message in consumer:\n",
    "    transaction = message.value\n",
    "    if transaction[\"values\"] > 80:\n",
    "        print(f\"🚨 Wykryto dużą transakcję: {transaction}\")"
   ]
  },
  {
   "cell_type": "markdown",
   "id": "127bcff5",
   "metadata": {},
   "source": [
    "Kod ten uruchom poleceniem: \n",
    "```bash\n",
    "python konsument.py\n",
    "```"
   ]
  }
 ],
 "metadata": {
  "language_info": {
   "name": "python"
  }
 },
 "nbformat": 4,
 "nbformat_minor": 5
}
