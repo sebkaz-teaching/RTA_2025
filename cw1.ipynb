{
 "cells": [
  {
   "cell_type": "markdown",
   "metadata": {},
   "source": [
    "## Test kafka streaming \n",
    "\n",
    "1. Sprawdź listę topiców\n",
    "```bash\n",
    "cd ~ \n",
    "kafka/bin/kafka-topics.sh --list --bootstrap-server broker:9092\n",
    "```\n",
    "\n",
    "2. Ustaw topic `mytopic`\n",
    "```bash\n",
    "kafka/bin/kafka-topics.sh --create --topic mytopic  --bootstrap-server broker:9092\n",
    "```\n",
    "\n",
    "3. Utwórz producenta \n",
    "```bash\n",
    "kafka/bin/kafka-console-producer.sh --bootstrap-server broker:9092 --topic mytopic --property \"parse.key=true\" --property \"key.separator=:\"\n",
    "```\n",
    "\n",
    "4. Otwórz nowy terminal w miejscu gdzie znajduje się plik test_key_value.py i uruchom program Consumenta na Sparku\n",
    "```bash\n",
    "spark-submit --packages org.apache.spark:spark-sql-kafka-0-10_2.12:3.3.0  test_key_value.py\n",
    "```\n",
    "\n",
    "5. W terminalu z uruchominionym producentem wpisz teskt w postaci: \n",
    "```bash\n",
    "jan:45\n",
    "alicja:20\n",
    "```\n",
    "i sprawdz co pojawia się w oknie aplikacji spark \n",
    "\n",
    "Po zakończeniu pokazu ctrl+c zamyka zarówno okno producenta jak i aplikacje sparkową"
   ]
  },
  {
   "cell_type": "markdown",
   "metadata": {},
   "source": [
    "## REST API z wykorzystaniem biblioteki Flask "
   ]
  },
  {
   "cell_type": "markdown",
   "metadata": {},
   "source": []
  }
 ],
 "metadata": {
  "language_info": {
   "name": "python"
  }
 },
 "nbformat": 4,
 "nbformat_minor": 2
}
