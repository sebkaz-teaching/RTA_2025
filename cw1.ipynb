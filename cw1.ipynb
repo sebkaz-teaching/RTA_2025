{
 "cells": [
  {
   "cell_type": "markdown",
   "metadata": {},
   "source": [
    "## Apache kafka - strumieniowanie danych\n",
    "\n",
    "1. Sprawdź listę topiców\n",
    "\n",
    "Pamiętaj aby przejść do katalogu domowego.\n",
    "\n",
    "```bash\n",
    "cd ~ \n",
    "kafka/bin/kafka-topics.sh --list --bootstrap-server broker:9092\n",
    "```\n",
    "\n",
    "2. Utwórz nowy topic o nazwie `mytopic`\n",
    "\n",
    "```bash\n",
    "kafka/bin/kafka-topics.sh --create --topic mytopic  --bootstrap-server broker:9092\n",
    "```\n",
    "\n",
    "3. Utwórz producenta \n",
    "\n",
    "Ten skrypt pozwoli Ci wprowadzać eventy ręcznie przez terminal.\n",
    "Opcje `--property` są dodatkowe i wprowadzone tylko do analizy przeprowadzanej w tym przykładzie.\n",
    "\n",
    "```bash\n",
    "kafka/bin/kafka-console-producer.sh --bootstrap-server broker:9092 --topic mytopic --property \"parse.key=true\" --property \"key.separator=:\"\n",
    "```\n",
    "\n",
    "4. Otwórz nowy terminal w miejscu gdzie znajduje się plik test_key_value.py i uruchom program Consumenta na Sparku\n",
    "\n",
    "Pamiętaj, iż Apache Spark nie posiada domyślnego konektora do Kafki dlatego uruchom proces poprzez komendę spark-submit i pobierz odpowiedni pakiet w scali.\n",
    "\n",
    "```bash\n",
    "spark-submit --packages org.apache.spark:spark-sql-kafka-0-10_2.12:3.3.0  test_key_value.py\n",
    "```\n",
    "\n",
    "5. W terminalu z uruchominionym producentem wpisz teskt w postaci: \n",
    "```bash\n",
    "jan:45\n",
    "alicja:20\n",
    "```\n",
    "i sprawdz co pojawia się w oknie aplikacji consumenta.\n",
    "\n",
    "Po zakończeniu pokazu ctrl+c zamyka zarówno okno producenta jak i aplikacje sparkową"
   ]
  },
  {
   "cell_type": "markdown",
   "metadata": {},
   "source": [
    "## REST API z wykorzystaniem biblioteki Flask \n",
    "\n",
    "Zanim przejdziemy do utworzenia podstawowej aplikacji Flask przyda się zrozumienie jak działa dekorator.\n",
    "\n",
    "Zdefiniujmy następującą funkcję: "
   ]
  },
  {
   "cell_type": "code",
   "execution_count": 1,
   "metadata": {},
   "outputs": [],
   "source": [
    "def test():\n",
    "    print(\"test z funkcji\")"
   ]
  },
  {
   "cell_type": "markdown",
   "metadata": {},
   "source": [
    "Dodajmy kolejną funkcję która pozwoli nam uruchomić nasz test."
   ]
  },
  {
   "cell_type": "code",
   "execution_count": 2,
   "metadata": {},
   "outputs": [],
   "source": [
    "def dekorator(func):\n",
    "    def inner():\n",
    "        print(\"funkcja wewnętrzna\")\n",
    "        func()\n",
    "    return inner()"
   ]
  },
  {
   "cell_type": "markdown",
   "metadata": {},
   "source": [
    "Tak przygotowane funkcje możemy wspólnie uruchomić jako:"
   ]
  },
  {
   "cell_type": "code",
   "execution_count": 3,
   "metadata": {},
   "outputs": [
    {
     "name": "stdout",
     "output_type": "stream",
     "text": [
      "funkcja wewnętrzna\n",
      "test z funkcji\n"
     ]
    }
   ],
   "source": [
    "dekorator(test)"
   ]
  },
  {
   "cell_type": "markdown",
   "metadata": {},
   "source": [
    "bardziej naturalnie możemy uruchomić dowolną funkcję już podczas jej deklaracji:"
   ]
  },
  {
   "cell_type": "code",
   "execution_count": 4,
   "metadata": {},
   "outputs": [
    {
     "name": "stdout",
     "output_type": "stream",
     "text": [
      "funkcja wewnętrzna\n",
      "drukuj test2\n"
     ]
    }
   ],
   "source": [
    "@dekorator\n",
    "def test2():\n",
    "    print(\"drukuj test2\")"
   ]
  },
  {
   "cell_type": "markdown",
   "metadata": {},
   "source": [
    "### Aplikacja Flask\n",
    "\n",
    "Poniźszy domyślny kod wygeneruje serwer z trzema podstronami. \n",
    "> Aplikacji nie możemy uruchomić w notatniku bezpośrednio - uruchomi się i zablokuje pozostałe komórki notatnika. Dlatego zapiszmy ją do pliku\n",
    "\n"
   ]
  },
  {
   "cell_type": "code",
   "execution_count": 5,
   "metadata": {},
   "outputs": [
    {
     "name": "stdout",
     "output_type": "stream",
     "text": [
      "Writing app1.py\n"
     ]
    }
   ],
   "source": [
    "%%file app1.py\n",
    "from flask import Flask\n",
    "\n",
    "app = Flask(__name__)\n",
    "\n",
    "@app.route('/hello')\n",
    "def say_hello():\n",
    "    return \"Hello World\"\n",
    "\n",
    "@app.route('/')\n",
    "def say_he():\n",
    "    return \"Hello z innej strony\"\n",
    "\n",
    "@app.route('/test')\n",
    "def say():\n",
    "    return \"test\"\n",
    "\n",
    "if __name__ == '__main__':\n",
    "    app.run()"
   ]
  },
  {
   "cell_type": "markdown",
   "metadata": {},
   "source": [
    "Możemy wykorzystać biblioteki do uruchomienia kodu jako podproces. Dodatkowo uruchomimy bibliotekę odpowiadającą za komunikację. "
   ]
  },
  {
   "cell_type": "code",
   "execution_count": 6,
   "metadata": {},
   "outputs": [],
   "source": [
    "import subprocess\n",
    "import requests"
   ]
  },
  {
   "cell_type": "code",
   "execution_count": 9,
   "metadata": {},
   "outputs": [
    {
     "name": "stdout",
     "output_type": "stream",
     "text": [
      " * Serving Flask app 'app1'\n",
      " * Debug mode: off\n"
     ]
    },
    {
     "name": "stderr",
     "output_type": "stream",
     "text": [
      "\u001b[31m\u001b[1mWARNING: This is a development server. Do not use it in a production deployment. Use a production WSGI server instead.\u001b[0m\n",
      " * Running on http://127.0.0.1:5000\n",
      "\u001b[33mPress CTRL+C to quit\u001b[0m\n"
     ]
    }
   ],
   "source": [
    "p = subprocess.Popen([\"python\", \"app1.py\"])"
   ]
  },
  {
   "cell_type": "markdown",
   "metadata": {},
   "source": [
    "Odpytajmy stronę uruchomionego serwisu"
   ]
  },
  {
   "cell_type": "code",
   "execution_count": 10,
   "metadata": {},
   "outputs": [
    {
     "name": "stderr",
     "output_type": "stream",
     "text": [
      "127.0.0.1 - - [28/Mar/2025 02:18:27] \"GET /hello HTTP/1.1\" 200 -\n"
     ]
    }
   ],
   "source": [
    "adres_url = \"http://127.0.0.1:5000/hello\"\n",
    "response = requests.get(adres_url)"
   ]
  },
  {
   "cell_type": "code",
   "execution_count": 11,
   "metadata": {},
   "outputs": [
    {
     "name": "stdout",
     "output_type": "stream",
     "text": [
      "b'Hello World'\n"
     ]
    }
   ],
   "source": [
    "print(response.content)"
   ]
  },
  {
   "cell_type": "code",
   "execution_count": 12,
   "metadata": {},
   "outputs": [
    {
     "name": "stderr",
     "output_type": "stream",
     "text": [
      "127.0.0.1 - - [28/Mar/2025 02:19:40] \"\u001b[33mGET /helloooo HTTP/1.1\u001b[0m\" 404 -\n"
     ]
    }
   ],
   "source": [
    "adres_url = \"http://127.0.0.1:5000/helloooo\"\n",
    "response = requests.get(adres_url)"
   ]
  },
  {
   "cell_type": "code",
   "execution_count": 13,
   "metadata": {},
   "outputs": [
    {
     "name": "stdout",
     "output_type": "stream",
     "text": [
      "b'<!doctype html>\\n<html lang=en>\\n<title>404 Not Found</title>\\n<h1>Not Found</h1>\\n<p>The requested URL was not found on the server. If you entered the URL manually please check your spelling and try again.</p>\\n'\n"
     ]
    }
   ],
   "source": [
    "print(response.content)"
   ]
  },
  {
   "cell_type": "code",
   "execution_count": 14,
   "metadata": {},
   "outputs": [],
   "source": [
    "p.kill()"
   ]
  },
  {
   "cell_type": "code",
   "execution_count": 15,
   "metadata": {},
   "outputs": [
    {
     "name": "stdout",
     "output_type": "stream",
     "text": [
      "Writing app2.py\n"
     ]
    }
   ],
   "source": [
    "%%file app2.py\n",
    "\n",
    "from flask import Flask\n",
    "from flask import request\n",
    "\n",
    "app = Flask(__name__)\n",
    "\n",
    "@app.route('/hello', methods=['GET'])\n",
    "def say_hello():\n",
    "    name = request.args.get(\"name\", \"\") # tutaj leci str\n",
    "    title = request.args.get(\"title\", \"\")\n",
    "    if name:\n",
    "        resp = f\"Hello {title} {name}\" if title else f\"Hello {name}\"\n",
    "    else:\n",
    "        resp = f\"Hello {title}\" if title else \"Hello\"\n",
    "    return resp\n",
    "\n",
    "if __name__ == '__main__':\n",
    "    app.run(port=5005)"
   ]
  },
  {
   "cell_type": "code",
   "execution_count": 16,
   "metadata": {},
   "outputs": [
    {
     "name": "stdout",
     "output_type": "stream",
     "text": [
      " * Serving Flask app 'app2'\n",
      " * Debug mode: off\n"
     ]
    },
    {
     "name": "stderr",
     "output_type": "stream",
     "text": [
      "\u001b[31m\u001b[1mWARNING: This is a development server. Do not use it in a production deployment. Use a production WSGI server instead.\u001b[0m\n",
      " * Running on http://127.0.0.1:5005\n",
      "\u001b[33mPress CTRL+C to quit\u001b[0m\n"
     ]
    }
   ],
   "source": [
    "p = subprocess.Popen([\"python\", \"app2.py\"])"
   ]
  },
  {
   "cell_type": "code",
   "execution_count": 17,
   "metadata": {},
   "outputs": [
    {
     "name": "stdout",
     "output_type": "stream",
     "text": [
      "dziala b'Hello'\n"
     ]
    },
    {
     "name": "stderr",
     "output_type": "stream",
     "text": [
      "127.0.0.1 - - [28/Mar/2025 02:21:59] \"GET /hello HTTP/1.1\" 200 -\n"
     ]
    }
   ],
   "source": [
    "response = requests.get(\"http://127.0.0.1:5005/hello\")\n",
    "if response.status_code == 200: \n",
    "    print(\"dziala\",response.content)\n",
    "else: \n",
    "    print(\"Nie dziala\",response.content)"
   ]
  },
  {
   "cell_type": "code",
   "execution_count": 20,
   "metadata": {},
   "outputs": [
    {
     "name": "stderr",
     "output_type": "stream",
     "text": [
      "127.0.0.1 - - [28/Mar/2025 02:22:26] \"GET /hello?name=Sebastian&title=dr HTTP/1.1\" 200 -\n"
     ]
    },
    {
     "data": {
      "text/plain": [
       "b'Hello dr Sebastian'"
      ]
     },
     "execution_count": 20,
     "metadata": {},
     "output_type": "execute_result"
    }
   ],
   "source": [
    "response = requests.get(\"http://127.0.0.1:5005/hello?name=Sebastian&title=dr\")\n",
    "response.content"
   ]
  },
  {
   "cell_type": "code",
   "execution_count": null,
   "metadata": {},
   "outputs": [],
   "source": []
  }
 ],
 "metadata": {
  "kernelspec": {
   "display_name": "venv",
   "language": "python",
   "name": "python3"
  },
  "language_info": {
   "codemirror_mode": {
    "name": "ipython",
    "version": 3
   },
   "file_extension": ".py",
   "mimetype": "text/x-python",
   "name": "python",
   "nbconvert_exporter": "python",
   "pygments_lexer": "ipython3",
   "version": "3.11.11"
  }
 },
 "nbformat": 4,
 "nbformat_minor": 2
}
