{
 "cells": [
  {
   "cell_type": "markdown",
   "id": "a69290e4",
   "metadata": {},
   "source": [
    "# Dane ustrukturyzowane\n",
    "\n",
    "Dane klienta to pewne wartości, które możesz przypisać do zmiennych: \n",
    "np wiek: 42, wzrost: 178, pozyczka: 1000, zarobki: 5000, imię: Jan\n",
    "\n",
    "Zdefiniuj zmienne customer_1_{cecha} i przypisz im wartości z przykładu powyżej"
   ]
  },
  {
   "cell_type": "code",
   "execution_count": 1,
   "id": "d1d5e579",
   "metadata": {},
   "outputs": [],
   "source": [
    "customer_1_wiek = 42\n",
    "customer_1_wzrost = 178\n",
    "customer_1_pozyczka = 1000\n",
    "customer_1_zarobki = 5000\n",
    "customer_1_imie = 'Jan'"
   ]
  },
  {
   "cell_type": "markdown",
   "id": "745a39b8",
   "metadata": {},
   "source": [
    "> dlaczego do analizy danych nie używamy zmiennych? \n",
    "\n",
    "> Niezależnie od typu analizowanych i przetwarzanych danych w Pythonie możemy zebrać dane i reprezentować je jako pewna formy `listy`. "
   ]
  },
  {
   "cell_type": "code",
   "execution_count": 2,
   "id": "529cc622",
   "metadata": {},
   "outputs": [],
   "source": [
    "customer_1 = [42,178,1000,5000,'Jan']"
   ]
  },
  {
   "cell_type": "markdown",
   "id": "121cd957",
   "metadata": {},
   "source": [
    "> dlaczego listy nie są najlepszym miejscem na przechowywanie danych?\n",
    "\n",
    "Weźmy dwie listy numeryczne"
   ]
  },
  {
   "cell_type": "code",
   "execution_count": 3,
   "id": "602e9a8b",
   "metadata": {},
   "outputs": [],
   "source": [
    "a = [1,2,3]\n",
    "b = [4,5,6]"
   ]
  },
  {
   "cell_type": "code",
   "execution_count": 4,
   "id": "9c2fd3fe",
   "metadata": {},
   "outputs": [
    {
     "name": "stdout",
     "output_type": "stream",
     "text": [
      "a+b: [1, 2, 3, 4, 5, 6]\n",
      "a+b: [1, 2, 3, 4, 5, 6]\n"
     ]
    }
   ],
   "source": [
    "# dodawanie list\n",
    "print(f\"a+b: {a+b}\")\n",
    "# można też użyć metody format\n",
    "print(\"a+b: {}\".format(a+b))"
   ]
  },
  {
   "cell_type": "code",
   "execution_count": 5,
   "id": "7b7b77bc",
   "metadata": {},
   "outputs": [
    {
     "name": "stdout",
     "output_type": "stream",
     "text": [
      "no-defined operation\n"
     ]
    }
   ],
   "source": [
    "# mnożenie list\n",
    "try:\n",
    "    print(a*b)\n",
    "except TypeError:\n",
    "    print(\"no-defined operation\")"
   ]
  },
  {
   "cell_type": "markdown",
   "id": "28b167df",
   "metadata": {},
   "source": [
    "Każdy obiekt pythonowy można rozszerzyć o nowe metody i atrybuty."
   ]
  },
  {
   "cell_type": "code",
   "execution_count": 6,
   "id": "968fa5ec",
   "metadata": {},
   "outputs": [
    {
     "name": "stdout",
     "output_type": "stream",
     "text": [
      "[1 2 3] [4 5 6]\n"
     ]
    }
   ],
   "source": [
    "import numpy as np\n",
    "aa = np.array(a)\n",
    "bb = np.array(b)\n",
    "\n",
    "print(aa,bb)"
   ]
  },
  {
   "cell_type": "code",
   "execution_count": 7,
   "id": "ad2f012c",
   "metadata": {},
   "outputs": [
    {
     "name": "stdout",
     "output_type": "stream",
     "text": [
      "aa+bb: [5 7 9]\n",
      "==================================================\n",
      "[ 4 10 18]\n",
      "aa*bb - czy to poprawne mnożenie?\n",
      "32\n",
      "np.dot - a czy otrzymany wynik też realizuje poprawne mnożenie?\n"
     ]
    }
   ],
   "source": [
    "print(f\"aa+bb: {aa+bb}\")\n",
    "# dodawanie działa\n",
    "try:\n",
    "    print(\"=\"*50)\n",
    "    print(aa*bb)\n",
    "    print(\"aa*bb - czy to poprawne mnożenie?\")\n",
    "    print(np.dot(aa,bb))\n",
    "    print(\"np.dot - a czy otrzymany wynik też realizuje poprawne mnożenie?\")\n",
    "except TypeError:\n",
    "    print(\"no-defined operation\")\n",
    "# mnożenie również działa"
   ]
  },
  {
   "cell_type": "markdown",
   "id": "2089b1a9",
   "metadata": {},
   "source": [
    "Co działa szybciej?\n"
   ]
  },
  {
   "cell_type": "code",
   "execution_count": 8,
   "id": "4a1df251",
   "metadata": {},
   "outputs": [
    {
     "name": "stdout",
     "output_type": "stream",
     "text": [
      "27.9 μs ± 1.22 μs per loop (mean ± std. dev. of 7 runs, 10,000 loops each)\n"
     ]
    }
   ],
   "source": [
    "def iloczyn_skalarny_lista(x: list, y: list) -> float: \n",
    "    iloczyn = 0.\n",
    "    for i in range(len(x)):\n",
    "        iloczyn += x[i] * y[i]\n",
    "    return iloczyn\n",
    "\n",
    "a = list(range(1000))\n",
    "b = list(range(1000))\n",
    "\n",
    "%timeit iloczyn_skalarny_lista(a, b)"
   ]
  },
  {
   "cell_type": "code",
   "execution_count": 9,
   "id": "af2b7dd8",
   "metadata": {},
   "outputs": [
    {
     "name": "stdout",
     "output_type": "stream",
     "text": [
      "545 ns ± 3.29 ns per loop (mean ± std. dev. of 7 runs, 1,000,000 loops each)\n"
     ]
    }
   ],
   "source": [
    "import numpy as np\n",
    "def iloczyn_skalarny_numpy(x, w):\n",
    "    return x.dot(w)\n",
    "    \n",
    "a = np.arange(1000)\n",
    "b = np.arange(1000)\n",
    "\n",
    "%timeit iloczyn_skalarny_numpy(a, b)"
   ]
  },
  {
   "cell_type": "code",
   "execution_count": 10,
   "id": "652df045",
   "metadata": {},
   "outputs": [
    {
     "name": "stdout",
     "output_type": "stream",
     "text": [
      "[0 1 2 3]\n",
      "scalar object dim: 0\n",
      "vector object dim: 1\n",
      "matrix object dim: 2\n"
     ]
    }
   ],
   "source": [
    "# własności tablic\n",
    "x = np.array(range(4))\n",
    "print(x)\n",
    "x.shape\n",
    "\n",
    "A = np.array([range(4),range(4)])\n",
    "# transposition  row i -> column j, column j -> row i \n",
    "A.T\n",
    "\n",
    "# 0-dim object\n",
    "scalar = np.array(5)\n",
    "print(f\"scalar object dim: {scalar.ndim}\")\n",
    "# 1-dim object\n",
    "vector_1d = np.array([3, 5, 7])\n",
    "print(f\"vector object dim: {vector_1d.ndim}\")\n",
    "# 2 rows for 3 features\n",
    "matrix_2d = np.array([[1,2,3],[3,4,5]])\n",
    "print(f\"matrix object dim: {matrix_2d.ndim}\")"
   ]
  },
  {
   "cell_type": "markdown",
   "id": "38d51ab9",
   "metadata": {},
   "source": [
    "Obliczenia wykonywane na danych mieszczących się w pamięci. \n",
    "> czy można jeszcze przyśpieszyć obliczenia? \n",
    "\n",
    "\n",
    "\n",
    "[Kurs Numpy ze strony Sebastiana Raschki](https://sebastianraschka.com/blog/2020/numpy-intro.html)\n",
    "\n",
    "\n",
    "## PyTorch \n",
    "\n",
    "[PyTorch](https://pytorch.org) is an open-source Python-based deep learning library. \n",
    "PyTorch has been the most widely used deep learning library for research since 2019 by a wide margin. In short, for many practitioners and researchers, PyTorch offers just the right balance between usability and features.\n",
    "\n",
    "1. PyTorch is a `tensor` library that extends the concept of array-oriented programming library NumPy with the additional feature of accelerated computation on GPUs, thus providing a seamless switch between CPUs and GPUs.\n",
    "\n",
    "2. PyTorch is an `automatic differentiation engine`, also known as autograd, which enables the automatic computation of gradients for tensor operations, simplifying backpropagation and model optimization.\n",
    "\n",
    "3. PyTorch is a deep learning library, meaning that it offers modular, flexible, and efficient building blocks (including pre-trained models, loss functions, and optimizers) for designing and training a wide range of deep learning models, catering to both researchers and developers.\n"
   ]
  },
  {
   "cell_type": "code",
   "execution_count": 12,
   "id": "e3805b49",
   "metadata": {},
   "outputs": [
    {
     "name": "stdout",
     "output_type": "stream",
     "text": [
      "2.6.0\n",
      "False\n",
      "True\n"
     ]
    }
   ],
   "source": [
    "import torch\n",
    "\n",
    "print(torch.__version__)\n",
    "\n",
    "print(torch.cuda.is_available())\n",
    "print(torch.backends.mps.is_available())\n",
    "\n",
    "tensor0d = torch.tensor(1) \n",
    "tensor1d = torch.tensor([1, 2, 3])\n",
    "tensor2d = torch.tensor([[1, 2, 2], [3, 4, 5]])\n",
    "tensor3d = torch.tensor([[[1, 2], [3, 4]], [[5, 6], [7, 8]]])"
   ]
  },
  {
   "cell_type": "code",
   "execution_count": 13,
   "id": "57c9ae40",
   "metadata": {},
   "outputs": [
    {
     "name": "stdout",
     "output_type": "stream",
     "text": [
      "torch.int64\n",
      "torch.float32\n"
     ]
    }
   ],
   "source": [
    "# typy\n",
    "print(tensor1d.dtype)\n",
    "\n",
    "print(torch.tensor([1.0, 2.0, 3.0]).dtype)"
   ]
  },
  {
   "cell_type": "code",
   "execution_count": 14,
   "id": "d137f608",
   "metadata": {},
   "outputs": [
    {
     "name": "stdout",
     "output_type": "stream",
     "text": [
      "tensor([[1, 2],\n",
      "        [2, 3],\n",
      "        [4, 5]])\n",
      "tensor([[1, 2],\n",
      "        [2, 3],\n",
      "        [4, 5]])\n"
     ]
    }
   ],
   "source": [
    "tensor2d.shape\n",
    "print(tensor2d.reshape(3, 2))\n",
    "print(tensor2d.view(3, 2))"
   ]
  },
  {
   "cell_type": "code",
   "execution_count": 15,
   "id": "702aece3",
   "metadata": {},
   "outputs": [
    {
     "name": "stdout",
     "output_type": "stream",
     "text": [
      "tensor([[1, 3],\n",
      "        [2, 4],\n",
      "        [2, 5]])\n"
     ]
    }
   ],
   "source": [
    "print(tensor2d.T)"
   ]
  },
  {
   "cell_type": "code",
   "execution_count": 16,
   "id": "679e8b29",
   "metadata": {},
   "outputs": [
    {
     "name": "stdout",
     "output_type": "stream",
     "text": [
      "tensor([[ 9, 21],\n",
      "        [21, 50]])\n",
      "tensor([[ 9, 21],\n",
      "        [21, 50]])\n"
     ]
    }
   ],
   "source": [
    "print(tensor2d.matmul(tensor2d.T))\n",
    "\n",
    "print(tensor2d @ tensor2d.T)"
   ]
  },
  {
   "cell_type": "markdown",
   "id": "b4dcdd43",
   "metadata": {},
   "source": [
    "szczegółowe info znajdziesz w [dokumentacji](https://pytorch.org/docs/stable/tensors.html)\n",
    "\n",
    "## Modelowanie danych ustrukturyzowanych\n",
    "\n",
    "Rozważmy jedną zmienną (`xs`) od której zależy nasza zmienna wynikowa (`ys` - target).\n",
    "```python\n",
    "xs = np.array([-1,0,1,2,3,4])\n",
    "ys = np.array([-3,-1,1,3,5,7])\n",
    "```\n",
    "\n",
    "\n",
    "Modelem który możemy zastosować jest regresja liniowa."
   ]
  },
  {
   "cell_type": "code",
   "execution_count": 17,
   "id": "31045fdd",
   "metadata": {},
   "outputs": [
    {
     "name": "stdout",
     "output_type": "stream",
     "text": [
      "solution: x1=2.0, x0=-1.0\n"
     ]
    },
    {
     "data": {
      "text/plain": [
       "array([1., 9.])"
      ]
     },
     "execution_count": 17,
     "metadata": {},
     "output_type": "execute_result"
    }
   ],
   "source": [
    "# Regresja liniowa \n",
    "\n",
    "import numpy as np\n",
    "from sklearn.linear_model import LinearRegression\n",
    "\n",
    "xs = np.array([-1,0,1,2,3,4])\n",
    "# a raczej \n",
    "xs = xs.reshape(-1, 1)\n",
    "\n",
    "ys = np.array([-3, -1, 1, 3, 5, 7])\n",
    "\n",
    "reg = LinearRegression()\n",
    "model = reg.fit(xs,ys)\n",
    "\n",
    "print(f\"solution: x1={model.coef_[0]}, x0={reg.intercept_}\")\n",
    "\n",
    "model.predict(np.array([[1],[5]]))"
   ]
  },
  {
   "cell_type": "markdown",
   "id": "ffd8accf",
   "metadata": {},
   "source": [
    "Prosty kod realizuje w pełni nasze zadanie znalezienia modelu regresji liniowej. \n",
    "\n",
    "Do czego może nam posłużyc tak wygenerowany model? \n",
    "\n",
    "Aby z niego skorzystac potrzebujemy wyeksportować go do pliku.\n",
    "\n",
    "Wykorzystaj bibliotekę pickle w celu zapisu obiektu modelu"
   ]
  },
  {
   "cell_type": "code",
   "execution_count": 18,
   "id": "0eee117e",
   "metadata": {},
   "outputs": [],
   "source": [
    "# save model\n",
    "import pickle\n",
    "with open('model.pkl', \"wb\") as picklefile:\n",
    "    pickle.dump(model, picklefile)"
   ]
  },
  {
   "cell_type": "markdown",
   "id": "a8751b2b",
   "metadata": {},
   "source": [
    "Teraz możemy go zaimportować (np na Github) i wykorzystać w innych projektach. "
   ]
  },
  {
   "cell_type": "code",
   "execution_count": 19,
   "id": "aacdc64b",
   "metadata": {},
   "outputs": [],
   "source": [
    "# load model\n",
    "with open('model.pkl',\"rb\") as picklefile:\n",
    "    mreg = pickle.load(picklefile)"
   ]
  },
  {
   "cell_type": "code",
   "execution_count": 20,
   "id": "4295b5e0",
   "metadata": {},
   "outputs": [
    {
     "data": {
      "text/plain": [
       "array([-3., -1.,  1.,  3.,  5.,  7.])"
      ]
     },
     "execution_count": 20,
     "metadata": {},
     "output_type": "execute_result"
    }
   ],
   "source": [
    "mreg.predict(xs)"
   ]
  },
  {
   "cell_type": "code",
   "execution_count": 21,
   "id": "5abe942e",
   "metadata": {},
   "outputs": [
    {
     "data": {
      "text/plain": [
       "tensor([-0.5447], grad_fn=<ViewBackward0>)"
      ]
     },
     "execution_count": 21,
     "metadata": {},
     "output_type": "execute_result"
    }
   ],
   "source": [
    "from torch.nn import Linear\n",
    "x_t = torch.tensor([1,2,3,4,5]).view(-1,1)\n",
    "x_t=x_t.to(torch.float32)\n",
    "m = Linear(1,1)\n",
    "m(torch.tensor([1.]))"
   ]
  },
  {
   "cell_type": "code",
   "execution_count": 22,
   "id": "41248eaa",
   "metadata": {},
   "outputs": [
    {
     "data": {
      "text/plain": [
       "tensor([[-0.5447],\n",
       "        [-0.8818],\n",
       "        [-1.2190],\n",
       "        [-1.5562],\n",
       "        [-1.8934]], grad_fn=<AddmmBackward0>)"
      ]
     },
     "execution_count": 22,
     "metadata": {},
     "output_type": "execute_result"
    }
   ],
   "source": [
    "m(x_t)"
   ]
  },
  {
   "cell_type": "code",
   "execution_count": 23,
   "id": "4670e91f",
   "metadata": {},
   "outputs": [
    {
     "name": "stdout",
     "output_type": "stream",
     "text": [
      "tensor([-0.0746])\n"
     ]
    }
   ],
   "source": [
    "# forward \n",
    "import torch.nn.functional as F\n",
    "\n",
    "y = torch.tensor([1.0])\n",
    "x1 = torch.tensor([1.1])\n",
    "w1 = torch.tensor([2.2], requires_grad=True)\n",
    "b  = torch.tensor([0.2], requires_grad=True)\n",
    "z = x1 * w1 + b\n",
    "a = torch.sigmoid(z)\n",
    "loss = F.binary_cross_entropy(a,y)\n",
    "\n",
    "# automatic diff \n",
    "from torch.autograd import grad\n",
    "\n",
    "grad_L_w1 = grad(loss, w1, retain_graph= True)\n",
    "grad_L_b = grad(loss, b, retain_graph= True)\n",
    "\n",
    "loss.backward()\n",
    "print(w1.grad)"
   ]
  },
  {
   "cell_type": "code",
   "execution_count": 24,
   "id": "dcaa9705",
   "metadata": {},
   "outputs": [],
   "source": [
    "class LinearRegression(torch.nn.Module):\n",
    "    def __init__(self, n_input:int, n_output: int):\n",
    "        super(LinearRegression, self).__init__()\n",
    "\n",
    "        self.layers = torch.nn.Sequential(\n",
    "                torch.nn.Linear(n_input, n_output)\n",
    "        )\n",
    "    def forward(self, x):\n",
    "        return self.layers(x)"
   ]
  },
  {
   "cell_type": "code",
   "execution_count": 25,
   "id": "e0b5a32a",
   "metadata": {},
   "outputs": [],
   "source": [
    "x = np.array(xs, dtype=np.float32)\n",
    "y = np.array(ys, dtype=np.float32)\n",
    "\n",
    "X_train = torch.from_numpy(x).view(-1,1)\n",
    "y_train = torch.from_numpy(y).view(-1,1)"
   ]
  },
  {
   "cell_type": "code",
   "execution_count": 26,
   "id": "2c53a99e",
   "metadata": {},
   "outputs": [],
   "source": [
    "lr_model = LinearRegression(1,1)\n",
    "\n",
    "criterion = torch.nn.MSELoss()\n",
    "optimizer = torch.optim.SGD(lr_model.parameters(), lr=0.01)"
   ]
  },
  {
   "cell_type": "code",
   "execution_count": 27,
   "id": "c30ada41",
   "metadata": {},
   "outputs": [
    {
     "name": "stdout",
     "output_type": "stream",
     "text": [
      "liczba trenowalnych parametrów: 2\n"
     ]
    }
   ],
   "source": [
    "num_params = sum(p.numel() for p in lr_model.parameters() if p.requires_grad)\n",
    "print(f\"liczba trenowalnych parametrów: {num_params}\")"
   ]
  },
  {
   "cell_type": "code",
   "execution_count": 28,
   "id": "cab16cef",
   "metadata": {},
   "outputs": [
    {
     "name": "stdout",
     "output_type": "stream",
     "text": [
      "weight: tensor([[0.0460]])\n",
      "bias: tensor([0.4732])\n"
     ]
    }
   ],
   "source": [
    "for layer in lr_model.layers:\n",
    "    if isinstance(layer, torch.nn.Linear):\n",
    "        print(f\"weight: {layer.state_dict()['weight']}\")\n",
    "        print(f\"bias: {layer.state_dict()['bias']}\")"
   ]
  },
  {
   "cell_type": "code",
   "execution_count": 29,
   "id": "efd9142f",
   "metadata": {},
   "outputs": [],
   "source": [
    "epochs = 10\n",
    "# petla uczaca \n",
    "for epoch in range(epochs):\n",
    "    lr_model.train() # etap trenowania \n",
    "\n",
    "    y_pred = lr_model(X_train)\n",
    "    loss = criterion(y_pred, y_train)\n",
    "\n",
    "    optimizer.zero_grad()\n",
    "    loss.backward()\n",
    "    optimizer.step()\n",
    "    \n",
    "    if (epoch+1) % 50 == 0:\n",
    "        print(f'epoch: {epoch+1:03d}, loss = {loss.item():.2f}')\n",
    " \n",
    "    lr_model.eval() # etap ewaluacji modelu\n",
    "\n",
    "# po treningu jeszcze raz generujemy predykcje\n",
    "lr_model.eval()\n",
    "with torch.no_grad():\n",
    "    predicted = lr_model(X_train)"
   ]
  },
  {
   "cell_type": "code",
   "execution_count": 30,
   "id": "e38579d6",
   "metadata": {},
   "outputs": [
    {
     "data": {
      "text/plain": [
       "(Parameter containing:\n",
       " tensor([[1.0423]], requires_grad=True),\n",
       " torch.Size([1, 1]))"
      ]
     },
     "execution_count": 30,
     "metadata": {},
     "output_type": "execute_result"
    }
   ],
   "source": [
    "lr_model.layers[0].weight, lr_model.layers[0].weight.shape"
   ]
  },
  {
   "cell_type": "markdown",
   "id": "de4f6246",
   "metadata": {},
   "source": [
    "## Inne sposoby pozyskiwania danych \n",
    "\n",
    "1. Gotowe źródła w bibliotekach pythonowych\n",
    "2. Dane z plików zewnętrznych (np. csv, json, txt) z lokalnego dysku lub z internetu\n",
    "3. Dane z bazy danych (np. MySQL, PostgreSQL, MongoDB)\n",
    "4. Dane generowane w sposób sztuczny pod wybrany problem modelowy. \n",
    "5. Strumienie danych "
   ]
  },
  {
   "cell_type": "code",
   "execution_count": 31,
   "id": "d3612562",
   "metadata": {},
   "outputs": [
    {
     "name": "stdout",
     "output_type": "stream",
     "text": [
      "dict_keys(['data', 'target', 'frame', 'target_names', 'DESCR', 'feature_names', 'filename', 'data_module'])\n",
      ".. _iris_dataset:\n",
      "\n",
      "Iris plants dataset\n",
      "--------------------\n",
      "\n",
      "**Data Set Characteristics:**\n",
      "\n",
      ":Number of Instances: 150 (50 in each of three classes)\n",
      ":Number of Attributes: 4 numeric, predictive attributes and the class\n",
      ":Attribute Information:\n",
      "    - sepal length in cm\n",
      "    - sepal width in cm\n",
      "    - petal length in cm\n",
      "    - petal width in cm\n",
      "    - class:\n",
      "            - Iris-Setosa\n",
      "            - Iris-Versicolour\n",
      "            - Iris-Virginica\n",
      "\n",
      ":Summary Statistics:\n",
      "\n",
      "============== ==== ==== ======= ===== ====================\n",
      "                Min  Max   Mean    SD   Class Correlation\n",
      "============== ==== ==== ======= ===== ====================\n",
      "sepal length:   4.3  7.9   5.84   0.83    0.7826\n",
      "sepal width:    2.0  4.4   3.05   0.43   -0.4194\n",
      "petal length:   1.0  6.9   3.76   1.76    0.9490  (high!)\n",
      "petal width:    0.1  2.5   1.20   0.76    0.9565  (high!)\n",
      "============== ==== ==== ======= ===== ====================\n",
      "\n",
      ":Missing Attribute Values: None\n",
      ":Class Distribution: 33.3% for each of 3 classes.\n",
      ":Creator: R.A. Fisher\n",
      ":Donor: Michael Marshall (MARSHALL%PLU@io.arc.nasa.gov)\n",
      ":Date: July, 1988\n",
      "\n",
      "The famous Iris database, first used by Sir R.A. Fisher. The dataset is taken\n",
      "from Fisher's paper. Note that it's the same as in R, but not as in the UCI\n",
      "Machine Learning Repository, which has two wrong data points.\n",
      "\n",
      "This is perhaps the best known database to be found in the\n",
      "pattern recognition literature.  Fisher's paper is a classic in the field and\n",
      "is referenced frequently to this day.  (See Duda & Hart, for example.)  The\n",
      "data set contains 3 classes of 50 instances each, where each class refers to a\n",
      "type of iris plant.  One class is linearly separable from the other 2; the\n",
      "latter are NOT linearly separable from each other.\n",
      "\n",
      ".. dropdown:: References\n",
      "\n",
      "  - Fisher, R.A. \"The use of multiple measurements in taxonomic problems\"\n",
      "    Annual Eugenics, 7, Part II, 179-188 (1936); also in \"Contributions to\n",
      "    Mathematical Statistics\" (John Wiley, NY, 1950).\n",
      "  - Duda, R.O., & Hart, P.E. (1973) Pattern Classification and Scene Analysis.\n",
      "    (Q327.D83) John Wiley & Sons.  ISBN 0-471-22361-1.  See page 218.\n",
      "  - Dasarathy, B.V. (1980) \"Nosing Around the Neighborhood: A New System\n",
      "    Structure and Classification Rule for Recognition in Partially Exposed\n",
      "    Environments\".  IEEE Transactions on Pattern Analysis and Machine\n",
      "    Intelligence, Vol. PAMI-2, No. 1, 67-71.\n",
      "  - Gates, G.W. (1972) \"The Reduced Nearest Neighbor Rule\".  IEEE Transactions\n",
      "    on Information Theory, May 1972, 431-433.\n",
      "  - See also: 1988 MLC Proceedings, 54-64.  Cheeseman et al\"s AUTOCLASS II\n",
      "    conceptual clustering system finds 3 classes in the data.\n",
      "  - Many, many more ...\n",
      "\n"
     ]
    }
   ],
   "source": [
    "from sklearn.datasets import load_iris\n",
    "\n",
    "iris = load_iris()\n",
    "\n",
    "# find all keys\n",
    "print(iris.keys())\n",
    "\n",
    "# print description\n",
    "print(iris.DESCR)\n",
    "\n",
    "\n",
    "import pandas as pd\n",
    "import numpy as np\n",
    "\n",
    "# create DataFrame\n",
    "df = pd.DataFrame(data= np.c_[iris['data'], iris['target']],\n",
    "                  columns= iris['feature_names'] + ['target'])"
   ]
  },
  {
   "cell_type": "code",
   "execution_count": 32,
   "id": "2efaa4e2",
   "metadata": {},
   "outputs": [
    {
     "data": {
      "application/vnd.microsoft.datawrangler.viewer.v0+json": {
       "columns": [
        {
         "name": "index",
         "rawType": "int64",
         "type": "integer"
        },
        {
         "name": "sepal length (cm)",
         "rawType": "float64",
         "type": "float"
        },
        {
         "name": "sepal width (cm)",
         "rawType": "float64",
         "type": "float"
        },
        {
         "name": "petal length (cm)",
         "rawType": "float64",
         "type": "float"
        },
        {
         "name": "petal width (cm)",
         "rawType": "float64",
         "type": "float"
        },
        {
         "name": "target",
         "rawType": "float64",
         "type": "float"
        }
       ],
       "conversionMethod": "pd.DataFrame",
       "ref": "7f75e40a-5528-4e73-b76f-f0edd52ff44b",
       "rows": [
        [
         "140",
         "6.7",
         "3.1",
         "5.6",
         "2.4",
         "2.0"
        ],
        [
         "141",
         "6.9",
         "3.1",
         "5.1",
         "2.3",
         "2.0"
        ],
        [
         "142",
         "5.8",
         "2.7",
         "5.1",
         "1.9",
         "2.0"
        ],
        [
         "143",
         "6.8",
         "3.2",
         "5.9",
         "2.3",
         "2.0"
        ],
        [
         "144",
         "6.7",
         "3.3",
         "5.7",
         "2.5",
         "2.0"
        ],
        [
         "145",
         "6.7",
         "3.0",
         "5.2",
         "2.3",
         "2.0"
        ],
        [
         "146",
         "6.3",
         "2.5",
         "5.0",
         "1.9",
         "2.0"
        ],
        [
         "147",
         "6.5",
         "3.0",
         "5.2",
         "2.0",
         "2.0"
        ],
        [
         "148",
         "6.2",
         "3.4",
         "5.4",
         "2.3",
         "2.0"
        ],
        [
         "149",
         "5.9",
         "3.0",
         "5.1",
         "1.8",
         "2.0"
        ]
       ],
       "shape": {
        "columns": 5,
        "rows": 10
       }
      },
      "text/html": [
       "<div>\n",
       "<style scoped>\n",
       "    .dataframe tbody tr th:only-of-type {\n",
       "        vertical-align: middle;\n",
       "    }\n",
       "\n",
       "    .dataframe tbody tr th {\n",
       "        vertical-align: top;\n",
       "    }\n",
       "\n",
       "    .dataframe thead th {\n",
       "        text-align: right;\n",
       "    }\n",
       "</style>\n",
       "<table border=\"1\" class=\"dataframe\">\n",
       "  <thead>\n",
       "    <tr style=\"text-align: right;\">\n",
       "      <th></th>\n",
       "      <th>sepal length (cm)</th>\n",
       "      <th>sepal width (cm)</th>\n",
       "      <th>petal length (cm)</th>\n",
       "      <th>petal width (cm)</th>\n",
       "      <th>target</th>\n",
       "    </tr>\n",
       "  </thead>\n",
       "  <tbody>\n",
       "    <tr>\n",
       "      <th>140</th>\n",
       "      <td>6.7</td>\n",
       "      <td>3.1</td>\n",
       "      <td>5.6</td>\n",
       "      <td>2.4</td>\n",
       "      <td>2.0</td>\n",
       "    </tr>\n",
       "    <tr>\n",
       "      <th>141</th>\n",
       "      <td>6.9</td>\n",
       "      <td>3.1</td>\n",
       "      <td>5.1</td>\n",
       "      <td>2.3</td>\n",
       "      <td>2.0</td>\n",
       "    </tr>\n",
       "    <tr>\n",
       "      <th>142</th>\n",
       "      <td>5.8</td>\n",
       "      <td>2.7</td>\n",
       "      <td>5.1</td>\n",
       "      <td>1.9</td>\n",
       "      <td>2.0</td>\n",
       "    </tr>\n",
       "    <tr>\n",
       "      <th>143</th>\n",
       "      <td>6.8</td>\n",
       "      <td>3.2</td>\n",
       "      <td>5.9</td>\n",
       "      <td>2.3</td>\n",
       "      <td>2.0</td>\n",
       "    </tr>\n",
       "    <tr>\n",
       "      <th>144</th>\n",
       "      <td>6.7</td>\n",
       "      <td>3.3</td>\n",
       "      <td>5.7</td>\n",
       "      <td>2.5</td>\n",
       "      <td>2.0</td>\n",
       "    </tr>\n",
       "    <tr>\n",
       "      <th>145</th>\n",
       "      <td>6.7</td>\n",
       "      <td>3.0</td>\n",
       "      <td>5.2</td>\n",
       "      <td>2.3</td>\n",
       "      <td>2.0</td>\n",
       "    </tr>\n",
       "    <tr>\n",
       "      <th>146</th>\n",
       "      <td>6.3</td>\n",
       "      <td>2.5</td>\n",
       "      <td>5.0</td>\n",
       "      <td>1.9</td>\n",
       "      <td>2.0</td>\n",
       "    </tr>\n",
       "    <tr>\n",
       "      <th>147</th>\n",
       "      <td>6.5</td>\n",
       "      <td>3.0</td>\n",
       "      <td>5.2</td>\n",
       "      <td>2.0</td>\n",
       "      <td>2.0</td>\n",
       "    </tr>\n",
       "    <tr>\n",
       "      <th>148</th>\n",
       "      <td>6.2</td>\n",
       "      <td>3.4</td>\n",
       "      <td>5.4</td>\n",
       "      <td>2.3</td>\n",
       "      <td>2.0</td>\n",
       "    </tr>\n",
       "    <tr>\n",
       "      <th>149</th>\n",
       "      <td>5.9</td>\n",
       "      <td>3.0</td>\n",
       "      <td>5.1</td>\n",
       "      <td>1.8</td>\n",
       "      <td>2.0</td>\n",
       "    </tr>\n",
       "  </tbody>\n",
       "</table>\n",
       "</div>"
      ],
      "text/plain": [
       "     sepal length (cm)  sepal width (cm)  petal length (cm)  petal width (cm)  \\\n",
       "140                6.7               3.1                5.6               2.4   \n",
       "141                6.9               3.1                5.1               2.3   \n",
       "142                5.8               2.7                5.1               1.9   \n",
       "143                6.8               3.2                5.9               2.3   \n",
       "144                6.7               3.3                5.7               2.5   \n",
       "145                6.7               3.0                5.2               2.3   \n",
       "146                6.3               2.5                5.0               1.9   \n",
       "147                6.5               3.0                5.2               2.0   \n",
       "148                6.2               3.4                5.4               2.3   \n",
       "149                5.9               3.0                5.1               1.8   \n",
       "\n",
       "     target  \n",
       "140     2.0  \n",
       "141     2.0  \n",
       "142     2.0  \n",
       "143     2.0  \n",
       "144     2.0  \n",
       "145     2.0  \n",
       "146     2.0  \n",
       "147     2.0  \n",
       "148     2.0  \n",
       "149     2.0  "
      ]
     },
     "execution_count": 32,
     "metadata": {},
     "output_type": "execute_result"
    }
   ],
   "source": [
    "# show last\n",
    "df.tail(10)"
   ]
  },
  {
   "cell_type": "code",
   "execution_count": 33,
   "id": "ce0f518f",
   "metadata": {},
   "outputs": [
    {
     "name": "stdout",
     "output_type": "stream",
     "text": [
      "<class 'pandas.core.frame.DataFrame'>\n",
      "RangeIndex: 150 entries, 0 to 149\n",
      "Data columns (total 5 columns):\n",
      " #   Column             Non-Null Count  Dtype  \n",
      "---  ------             --------------  -----  \n",
      " 0   sepal length (cm)  150 non-null    float64\n",
      " 1   sepal width (cm)   150 non-null    float64\n",
      " 2   petal length (cm)  150 non-null    float64\n",
      " 3   petal width (cm)   150 non-null    float64\n",
      " 4   target             150 non-null    float64\n",
      "dtypes: float64(5)\n",
      "memory usage: 6.0 KB\n"
     ]
    }
   ],
   "source": [
    "# show info about NaN values and a type of each column.\n",
    "df.info()"
   ]
  },
  {
   "cell_type": "code",
   "execution_count": 34,
   "id": "a7e9c988",
   "metadata": {},
   "outputs": [
    {
     "data": {
      "application/vnd.microsoft.datawrangler.viewer.v0+json": {
       "columns": [
        {
         "name": "index",
         "rawType": "object",
         "type": "string"
        },
        {
         "name": "sepal length (cm)",
         "rawType": "float64",
         "type": "float"
        },
        {
         "name": "sepal width (cm)",
         "rawType": "float64",
         "type": "float"
        },
        {
         "name": "petal length (cm)",
         "rawType": "float64",
         "type": "float"
        },
        {
         "name": "petal width (cm)",
         "rawType": "float64",
         "type": "float"
        },
        {
         "name": "target",
         "rawType": "float64",
         "type": "float"
        }
       ],
       "conversionMethod": "pd.DataFrame",
       "ref": "79425345-088c-4430-ba84-f1778664bc17",
       "rows": [
        [
         "count",
         "150.0",
         "150.0",
         "150.0",
         "150.0",
         "150.0"
        ],
        [
         "mean",
         "5.843333333333334",
         "3.0573333333333337",
         "3.7580000000000005",
         "1.1993333333333336",
         "1.0"
        ],
        [
         "std",
         "0.828066127977863",
         "0.4358662849366982",
         "1.7652982332594662",
         "0.7622376689603465",
         "0.8192319205190405"
        ],
        [
         "min",
         "4.3",
         "2.0",
         "1.0",
         "0.1",
         "0.0"
        ],
        [
         "25%",
         "5.1",
         "2.8",
         "1.6",
         "0.3",
         "0.0"
        ],
        [
         "50%",
         "5.8",
         "3.0",
         "4.35",
         "1.3",
         "1.0"
        ],
        [
         "75%",
         "6.4",
         "3.3",
         "5.1",
         "1.8",
         "2.0"
        ],
        [
         "max",
         "7.9",
         "4.4",
         "6.9",
         "2.5",
         "2.0"
        ]
       ],
       "shape": {
        "columns": 5,
        "rows": 8
       }
      },
      "text/html": [
       "<div>\n",
       "<style scoped>\n",
       "    .dataframe tbody tr th:only-of-type {\n",
       "        vertical-align: middle;\n",
       "    }\n",
       "\n",
       "    .dataframe tbody tr th {\n",
       "        vertical-align: top;\n",
       "    }\n",
       "\n",
       "    .dataframe thead th {\n",
       "        text-align: right;\n",
       "    }\n",
       "</style>\n",
       "<table border=\"1\" class=\"dataframe\">\n",
       "  <thead>\n",
       "    <tr style=\"text-align: right;\">\n",
       "      <th></th>\n",
       "      <th>sepal length (cm)</th>\n",
       "      <th>sepal width (cm)</th>\n",
       "      <th>petal length (cm)</th>\n",
       "      <th>petal width (cm)</th>\n",
       "      <th>target</th>\n",
       "    </tr>\n",
       "  </thead>\n",
       "  <tbody>\n",
       "    <tr>\n",
       "      <th>count</th>\n",
       "      <td>150.000000</td>\n",
       "      <td>150.000000</td>\n",
       "      <td>150.000000</td>\n",
       "      <td>150.000000</td>\n",
       "      <td>150.000000</td>\n",
       "    </tr>\n",
       "    <tr>\n",
       "      <th>mean</th>\n",
       "      <td>5.843333</td>\n",
       "      <td>3.057333</td>\n",
       "      <td>3.758000</td>\n",
       "      <td>1.199333</td>\n",
       "      <td>1.000000</td>\n",
       "    </tr>\n",
       "    <tr>\n",
       "      <th>std</th>\n",
       "      <td>0.828066</td>\n",
       "      <td>0.435866</td>\n",
       "      <td>1.765298</td>\n",
       "      <td>0.762238</td>\n",
       "      <td>0.819232</td>\n",
       "    </tr>\n",
       "    <tr>\n",
       "      <th>min</th>\n",
       "      <td>4.300000</td>\n",
       "      <td>2.000000</td>\n",
       "      <td>1.000000</td>\n",
       "      <td>0.100000</td>\n",
       "      <td>0.000000</td>\n",
       "    </tr>\n",
       "    <tr>\n",
       "      <th>25%</th>\n",
       "      <td>5.100000</td>\n",
       "      <td>2.800000</td>\n",
       "      <td>1.600000</td>\n",
       "      <td>0.300000</td>\n",
       "      <td>0.000000</td>\n",
       "    </tr>\n",
       "    <tr>\n",
       "      <th>50%</th>\n",
       "      <td>5.800000</td>\n",
       "      <td>3.000000</td>\n",
       "      <td>4.350000</td>\n",
       "      <td>1.300000</td>\n",
       "      <td>1.000000</td>\n",
       "    </tr>\n",
       "    <tr>\n",
       "      <th>75%</th>\n",
       "      <td>6.400000</td>\n",
       "      <td>3.300000</td>\n",
       "      <td>5.100000</td>\n",
       "      <td>1.800000</td>\n",
       "      <td>2.000000</td>\n",
       "    </tr>\n",
       "    <tr>\n",
       "      <th>max</th>\n",
       "      <td>7.900000</td>\n",
       "      <td>4.400000</td>\n",
       "      <td>6.900000</td>\n",
       "      <td>2.500000</td>\n",
       "      <td>2.000000</td>\n",
       "    </tr>\n",
       "  </tbody>\n",
       "</table>\n",
       "</div>"
      ],
      "text/plain": [
       "       sepal length (cm)  sepal width (cm)  petal length (cm)  \\\n",
       "count         150.000000        150.000000         150.000000   \n",
       "mean            5.843333          3.057333           3.758000   \n",
       "std             0.828066          0.435866           1.765298   \n",
       "min             4.300000          2.000000           1.000000   \n",
       "25%             5.100000          2.800000           1.600000   \n",
       "50%             5.800000          3.000000           4.350000   \n",
       "75%             6.400000          3.300000           5.100000   \n",
       "max             7.900000          4.400000           6.900000   \n",
       "\n",
       "       petal width (cm)      target  \n",
       "count        150.000000  150.000000  \n",
       "mean           1.199333    1.000000  \n",
       "std            0.762238    0.819232  \n",
       "min            0.100000    0.000000  \n",
       "25%            0.300000    0.000000  \n",
       "50%            1.300000    1.000000  \n",
       "75%            1.800000    2.000000  \n",
       "max            2.500000    2.000000  "
      ]
     },
     "execution_count": 34,
     "metadata": {},
     "output_type": "execute_result"
    }
   ],
   "source": [
    "# statistics\n",
    "df.describe()"
   ]
  },
  {
   "cell_type": "code",
   "execution_count": 35,
   "id": "11aa261d",
   "metadata": {},
   "outputs": [],
   "source": [
    "# new features\n",
    "df['species'] = pd.Categorical.from_codes(iris.target, iris.target_names)"
   ]
  },
  {
   "cell_type": "code",
   "execution_count": 36,
   "id": "fae72185",
   "metadata": {},
   "outputs": [],
   "source": [
    "# remove features (columns) \n",
    "df = df.drop(columns=['target'])\n",
    "# filtering first 100 rows and 4'th column"
   ]
  },
  {
   "cell_type": "code",
   "execution_count": 37,
   "id": "24981a78",
   "metadata": {},
   "outputs": [
    {
     "data": {
      "text/plain": [
       "<Axes: xlabel='measurement', ylabel='value'>"
      ]
     },
     "execution_count": 37,
     "metadata": {},
     "output_type": "execute_result"
    },
    {
     "data": {
      "image/png": "[encoded data removed]",
      "text/plain": [
       "<Figure size 1500x900 with 1 Axes>"
      ]
     },
     "metadata": {},
     "output_type": "display_data"
    }
   ],
   "source": [
    "import seaborn as sns\n",
    "import matplotlib.pyplot as plt\n",
    "sns.set(style=\"whitegrid\", palette=\"husl\")\n",
    "\n",
    "iris_melt = pd.melt(df, \"species\", var_name=\"measurement\")\n",
    "f, ax = plt.subplots(1, figsize=(15,9))\n",
    "sns.stripplot(x=\"measurement\", y=\"value\", hue=\"species\", data=iris_melt, jitter=True, edgecolor=\"white\", ax=ax)"
   ]
  },
  {
   "cell_type": "code",
   "execution_count": 38,
   "id": "14ea5115",
   "metadata": {},
   "outputs": [],
   "source": [
    "X = df.iloc[:100,[0,2]].values\n",
    "y = df.iloc[0:100,4].values\n",
    "\n",
    "y = np.where(y == 'setosa',-1,1)"
   ]
  },
  {
   "cell_type": "code",
   "execution_count": 39,
   "id": "ea996072",
   "metadata": {},
   "outputs": [
    {
     "data": {
      "image/png": "[encoded data removed]",
      "text/plain": [
       "<Figure size 640x480 with 1 Axes>"
      ]
     },
     "metadata": {},
     "output_type": "display_data"
    }
   ],
   "source": [
    "plt.scatter(X[:50,0],X[:50,1],color='red', marker='o',label='setosa')\n",
    "plt.scatter(X[50:100,0],X[50:100,1],color='blue', marker='x',label='versicolor')\n",
    "plt.xlabel('sepal length (cm)')\n",
    "plt.ylabel('petal length (cm)')\n",
    "plt.legend(loc='upper left')\n",
    "plt.show()"
   ]
  },
  {
   "cell_type": "code",
   "execution_count": 40,
   "id": "7ba51585",
   "metadata": {},
   "outputs": [
    {
     "data": {
      "text/plain": [
       "array([-1,  1])"
      ]
     },
     "execution_count": 40,
     "metadata": {},
     "output_type": "execute_result"
    }
   ],
   "source": [
    "from sklearn.linear_model import Perceptron\n",
    "\n",
    "per_clf = Perceptron()\n",
    "per_clf.fit(X,y)\n",
    "\n",
    "y_pred = per_clf.predict([[2, 0.5],[4,5.5]])\n",
    "y_pred"
   ]
  },
  {
   "cell_type": "markdown",
   "id": "4d9fa2a1",
   "metadata": {},
   "source": [
    "źródła zewnętrzne"
   ]
  },
  {
   "cell_type": "code",
   "execution_count": 41,
   "id": "f0e8c38e",
   "metadata": {},
   "outputs": [],
   "source": [
    "IRIS_PATH = \"https://archive.ics.uci.edu/ml/machine-learning-databases/iris/iris.data\"\n",
    "col_names = [\"sepal_length\", \"sepal_width\", \"petal_length\", \"petal_width\", \"class\"]\n",
    "df = pd.read_csv(IRIS_PATH, names=col_names)"
   ]
  },
  {
   "cell_type": "code",
   "execution_count": 43,
   "id": "611028ee",
   "metadata": {},
   "outputs": [
    {
     "name": "stdout",
     "output_type": "stream",
     "text": [
      "tabela już istnieje\n"
     ]
    }
   ],
   "source": [
    "# save to sqlite\n",
    "import sqlite3\n",
    "# generate database\n",
    "conn = sqlite3.connect(\"iris.db\")\n",
    "# pandas to_sql\n",
    "\n",
    "try:\n",
    "    df.to_sql(\"iris\", conn, index=False)\n",
    "except:\n",
    "    print(\"tabela już istnieje\")"
   ]
  },
  {
   "cell_type": "code",
   "execution_count": 44,
   "id": "ba01a68c",
   "metadata": {},
   "outputs": [],
   "source": [
    "result = pd.read_sql(\"SELECT * FROM iris WHERE sepal_length > 5\", conn)"
   ]
  },
  {
   "cell_type": "markdown",
   "id": "9e7b72ce",
   "metadata": {},
   "source": [
    "Sztuczne dane\n"
   ]
  },
  {
   "cell_type": "code",
   "execution_count": 45,
   "id": "e2bd49e2",
   "metadata": {},
   "outputs": [
    {
     "data": {
      "text/plain": [
       "array([0])"
      ]
     },
     "execution_count": 45,
     "metadata": {},
     "output_type": "execute_result"
    }
   ],
   "source": [
    "# Dane sztucznie generowane\n",
    "from sklearn import datasets\n",
    "X, y = datasets.make_classification(n_samples=10**4,\n",
    "n_features=20, n_informative=2, n_redundant=2)\n",
    "\n",
    "\n",
    "from sklearn.ensemble import RandomForestClassifier\n",
    "\n",
    "\n",
    "# podział na zbiór treningowy i testowy\n",
    "train_samples = 7000 # 70% danych treningowych\n",
    "\n",
    "X_train = X[:train_samples]\n",
    "X_test = X[train_samples:]\n",
    "y_train = y[:train_samples]\n",
    "y_test = y[train_samples:]\n",
    "\n",
    "rfc = RandomForestClassifier()\n",
    "rfc.fit(X_train, y_train)\n",
    "\n",
    "rfc.predict(X_train[0].reshape(1, -1))"
   ]
  }
 ],
 "metadata": {
  "kernelspec": {
   "display_name": "venv",
   "language": "python",
   "name": "python3"
  },
  "language_info": {
   "codemirror_mode": {
    "name": "ipython",
    "version": 3
   },
   "file_extension": ".py",
   "mimetype": "text/x-python",
   "name": "python",
   "nbconvert_exporter": "python",
   "pygments_lexer": "ipython3",
   "version": "3.11.12"
  }
 },
 "nbformat": 4,
 "nbformat_minor": 5
}
