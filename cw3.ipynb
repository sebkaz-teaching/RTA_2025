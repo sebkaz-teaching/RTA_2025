{
 "cells": [
  {
   "cell_type": "code",
   "execution_count": 2,
   "metadata": {},
   "outputs": [],
   "source": [
    "# Remove warnings\n",
    "import warnings\n",
    "warnings.filterwarnings('ignore')"
   ]
  },
  {
   "cell_type": "markdown",
   "metadata": {},
   "source": [
    "# Dane ustrukturyzowane\n",
    "\n",
    "Dane klienta to pewne wartości, które możesz przypisać do zmiennych: \n",
    "np wiek: 42, wzrost: 178, pozyczka: 1000, zarobki: 5000, imię: Jan\n",
    "\n",
    "Zdefiniuj zmienne customer_1_{cecha} i przypisz im wartości z przykładu powyżej "
   ]
  },
  {
   "cell_type": "code",
   "execution_count": 3,
   "metadata": {},
   "outputs": [
    {
     "name": "stdout",
     "output_type": "stream",
     "text": [
      "Jan ma 42 lat i chce 1000 PLN pożyczki\n"
     ]
    }
   ],
   "source": [
    "customer_1_wiek = 42\n",
    "customer_1_wzrost = 178\n",
    "customer_1_pozyczka = 1000\n",
    "customer_1_zarobki = 5000\n",
    "customer_1_imie = \"Jan\"\n",
    "\n",
    "print(f\"{customer_1_imie} ma {customer_1_wiek} lat i chce {customer_1_pozyczka} PLN pożyczki\")"
   ]
  },
  {
   "cell_type": "markdown",
   "metadata": {},
   "source": [
    "Jak łatwo się domyśleć wpisywanie takich zmiennych ręcznie przy dużej ilości klientów nie będzie dobrym rozwiązaniem. Dlatego może lepiej znaleźć obiekt, który pozwoli przetrzymać wiele wartości i przypisać je do jednej zmiennej. \n",
    "\n",
    "Takim obiektem może być np. lista. Zauważ, że w liście nie ma znaczenia czy wszystkie wartości są tego samego typu!"
   ]
  },
  {
   "cell_type": "code",
   "execution_count": 6,
   "metadata": {},
   "outputs": [
    {
     "name": "stdout",
     "output_type": "stream",
     "text": [
      "<class 'list'>\n",
      "Jan ma 48 lata i chce 1000 PLN pozyczki\n"
     ]
    }
   ],
   "source": [
    "customer_1 = [48, 178, 1000, 5000,'Jan']\n",
    "print(type(customer_1))\n",
    "print(\"{} ma {} lata i chce {} PLN pozyczki\".format(customer_1[4], customer_1[0], customer_1[2]))"
   ]
  },
  {
   "cell_type": "markdown",
   "metadata": {},
   "source": []
  }
 ],
 "metadata": {
  "kernelspec": {
   "display_name": "venv",
   "language": "python",
   "name": "python3"
  },
  "language_info": {
   "codemirror_mode": {
    "name": "ipython",
    "version": 3
   },
   "file_extension": ".py",
   "mimetype": "text/x-python",
   "name": "python",
   "nbconvert_exporter": "python",
   "pygments_lexer": "ipython3",
   "version": "3.11.11"
  }
 },
 "nbformat": 4,
 "nbformat_minor": 2
}
